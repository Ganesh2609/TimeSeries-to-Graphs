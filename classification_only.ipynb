{
 "cells": [
  {
   "cell_type": "code",
   "execution_count": 6,
   "metadata": {},
   "outputs": [
    {
     "name": "stdout",
     "output_type": "stream",
     "text": [
      "<U32\n"
     ]
    }
   ],
   "source": [
    "import json\n",
    "from tqdm import tqdm\n",
    "import pandas as pd\n",
    "import os\n",
    "import numpy as np\n",
    "\n",
    "# Define the path to the folder\n",
    "path = 'eeg_data_test/'\n",
    "\n",
    "eeg_data_control = []\n",
    "eeg_data_alcoholic = []\n",
    "\n",
    "# Loop through the folder\n",
    "for folder in os.listdir(path):\n",
    "    if os.path.isdir(path + folder):\n",
    "        for file in os.listdir(path + folder + '/'):\n",
    "            with open(path + folder + '/' + file, 'r') as f:\n",
    "                eeg_data_point = []\n",
    "                for line in f:\n",
    "                    # Split each line by whitespace\n",
    "                    values = line.strip().split()\n",
    "                    # Check if the line contains data\n",
    "                    if line[0] != '#':\n",
    "                        # Append the values to the data list\n",
    "                        eeg_data_point.append([values[0], values[1], int(\n",
    "                            values[2]), float(values[3])])\n",
    "            if folder[3] == 'c':\n",
    "                eeg_data_control.append(eeg_data_point)\n",
    "            elif folder[3] == 'a':\n",
    "                eeg_data_alcoholic.append(eeg_data_point)\n",
    "                \n",
    "eeg_data_control = np.array(eeg_data_control)\n",
    "eeg_data_alcoholic = np.array(eeg_data_alcoholic)\n",
    "print(eeg_data_control[0][0].dtype)"
   ]
  }
 ],
 "metadata": {
  "kernelspec": {
   "display_name": "Python 3",
   "language": "python",
   "name": "python3"
  },
  "language_info": {
   "codemirror_mode": {
    "name": "ipython",
    "version": 3
   },
   "file_extension": ".py",
   "mimetype": "text/x-python",
   "name": "python",
   "nbconvert_exporter": "python",
   "pygments_lexer": "ipython3",
   "version": "3.11.1"
  }
 },
 "nbformat": 4,
 "nbformat_minor": 2
}
